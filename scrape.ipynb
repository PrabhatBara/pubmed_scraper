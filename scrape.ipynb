{
 "cells": [
  {
   "cell_type": "code",
   "execution_count": 1,
   "metadata": {},
   "outputs": [],
   "source": [
    "import json\n",
    "import requests\n",
    "import pandas as pd\n",
    "from bs4 import BeautifulSoup"
   ]
  },
  {
   "cell_type": "code",
   "execution_count": 2,
   "metadata": {},
   "outputs": [
    {
     "data": {
      "text/html": [
       "<div>\n",
       "<style scoped>\n",
       "    .dataframe tbody tr th:only-of-type {\n",
       "        vertical-align: middle;\n",
       "    }\n",
       "\n",
       "    .dataframe tbody tr th {\n",
       "        vertical-align: top;\n",
       "    }\n",
       "\n",
       "    .dataframe thead th {\n",
       "        text-align: right;\n",
       "    }\n",
       "</style>\n",
       "<table border=\"1\" class=\"dataframe\">\n",
       "  <thead>\n",
       "    <tr style=\"text-align: right;\">\n",
       "      <th></th>\n",
       "      <th>0</th>\n",
       "    </tr>\n",
       "  </thead>\n",
       "  <tbody>\n",
       "    <tr>\n",
       "      <th>0</th>\n",
       "      <td>female+genetalia+development+proteins</td>\n",
       "    </tr>\n",
       "    <tr>\n",
       "      <th>1</th>\n",
       "      <td>molecular+mechanisms+disorders+sex+development</td>\n",
       "    </tr>\n",
       "    <tr>\n",
       "      <th>2</th>\n",
       "      <td>molecular+mechanisms+gonadal+development</td>\n",
       "    </tr>\n",
       "    <tr>\n",
       "      <th>3</th>\n",
       "      <td>23+XX+DSD+molecular+mechanisms</td>\n",
       "    </tr>\n",
       "    <tr>\n",
       "      <th>4</th>\n",
       "      <td>23+XY+DSD+molecular+mechanisms</td>\n",
       "    </tr>\n",
       "  </tbody>\n",
       "</table>\n",
       "</div>"
      ],
      "text/plain": [
       "                                                0\n",
       "0           female+genetalia+development+proteins\n",
       "1  molecular+mechanisms+disorders+sex+development\n",
       "2        molecular+mechanisms+gonadal+development\n",
       "3                  23+XX+DSD+molecular+mechanisms\n",
       "4                  23+XY+DSD+molecular+mechanisms"
      ]
     },
     "execution_count": 2,
     "metadata": {},
     "output_type": "execute_result"
    }
   ],
   "source": [
    "keywords = pd.read_excel('keywords1.xlsx',header=None)\n",
    "keywords"
   ]
  },
  {
   "cell_type": "code",
   "execution_count": 3,
   "metadata": {},
   "outputs": [],
   "source": [
    "def url_builder(term,size,page):\n",
    "    URL = 'https://pubmed.ncbi.nlm.nih.gov/?term={}&format=abstract&size={}&page={}'.format(\\\n",
    "                                                                                           term,\n",
    "                                                                                           size,\n",
    "                                                                                           page)\n",
    "    return URL"
   ]
  },
  {
   "cell_type": "code",
   "execution_count": 4,
   "metadata": {},
   "outputs": [],
   "source": [
    "def get_html(URL):\n",
    "    response = requests.get(URL)\n",
    "    soup = BeautifulSoup(response.text, \"html.parser\")\n",
    "    html = soup.find_all('div', {'class': \"results-article\"})\n",
    "    return html"
   ]
  },
  {
   "cell_type": "code",
   "execution_count": 5,
   "metadata": {},
   "outputs": [],
   "source": [
    "def get_data(result):\n",
    "    title = result.find('h1').text.replace('\\n','').strip()\n",
    "    try:\n",
    "        doi = result.find('span',{'class':\"citation-doi\"}).text.strip()\n",
    "    except:\n",
    "        doi = 'NA'\n",
    "    pubmedId = result.find('strong',{'class':\"current-id\", 'title':\"PubMed ID\"}).text\n",
    "    a = result.find('div',{'class':\"abstract\"}).find_all('p')\n",
    "    try:\n",
    "        abstract = ''\n",
    "        for i in a:\n",
    "            abstract = abstract + i.text.strip() + ' '\n",
    "            abstract = abstract.replace('\\n','')\n",
    "    except:\n",
    "        abstract = 'NA'\n",
    "    link = 'https://pubmed.ncbi.nlm.nih.gov/{}/'.format(pubmedId)\n",
    "    authors = []\n",
    "    for i in result.find_all('a',{'class':'full-name'}):\n",
    "        authors.append(i.text)\n",
    "    authors = list(dict.fromkeys(authors))\n",
    "    try:\n",
    "        date = result.find('span',{'class':'cit'}).text\n",
    "        date = date.split(';')[0]\n",
    "    except:\n",
    "        date = 'NA'\n",
    "    affiliations = []\n",
    "    try:\n",
    "        for x in result.find('ul',{'class':'item-list'}).find_all('li'):\n",
    "            affiliations.append(x.text)\n",
    "        affiliations\n",
    "    except:\n",
    "        affiliations = []\n",
    "    data = [link,title,date,pubmedId,authors,abstract,affiliations,doi]\n",
    "    return data"
   ]
  },
  {
   "cell_type": "code",
   "execution_count": 6,
   "metadata": {},
   "outputs": [],
   "source": [
    "def save_page(html,size,page_n,term):\n",
    "    page = []\n",
    "    for i in range(size):\n",
    "        data = get_data(html[i])\n",
    "        page.append(data)\n",
    "    page = pd.DataFrame(page)\n",
    "    page.to_excel('{}_page_{}.xlsx'.format(term, page_n))    "
   ]
  },
  {
   "cell_type": "code",
   "execution_count": 7,
   "metadata": {
    "scrolled": true
   },
   "outputs": [
    {
     "name": "stdout",
     "output_type": "stream",
     "text": [
      "female+genetalia+development+proteins\n",
      "23786\n",
      "119\n",
      "molecular+mechanisms+disorders+sex+development\n",
      "1211\n",
      "7\n",
      "molecular+mechanisms+gonadal+development\n",
      "2555\n",
      "13\n",
      "23+XX+DSD+molecular+mechanisms\n",
      "2\n",
      "1\n",
      "23+XY+DSD+molecular+mechanisms\n",
      "2\n",
      "1\n"
     ]
    }
   ],
   "source": [
    "for keyword in keywords[0]:\n",
    "    print(keyword)\n",
    "    URL = 'https://pubmed.ncbi.nlm.nih.gov/?term={}'.format(keyword)\n",
    "    response = requests.get(URL)\n",
    "    soup = BeautifulSoup(response.text, \"html.parser\")\n",
    "    n_results = soup.find('div', {'class':'results-amount'}).find('span').text\n",
    "    n_results = n_results.replace(',','')\n",
    "    print(n_results)\n",
    "    del(soup)\n",
    "    npages = int(n_results)//200 +1\n",
    "    print(npages)\n",
    "    if int(n_results) < 200:\n",
    "        URL = url_builder(keyword,200,1)\n",
    "        html = get_html(URL)\n",
    "        save_page(html,int(n_results),1,term=keyword)\n",
    "    else:    \n",
    "        for i in range(npages-1):\n",
    "            URL = url_builder(keyword,200,i+1)\n",
    "            html = get_html(URL)\n",
    "            save_page(html,200,i+1,term=keyword)\n",
    "        URL = url_builder(keyword,200,i+2)\n",
    "        html = get_html(URL)\n",
    "        save_page(html,int(n_results)%200,i+2,term=keyword)"
   ]
  },
  {
   "cell_type": "code",
   "execution_count": null,
   "metadata": {},
   "outputs": [],
   "source": []
  }
 ],
 "metadata": {
  "kernelspec": {
   "display_name": "Python 3",
   "language": "python",
   "name": "python3"
  },
  "language_info": {
   "codemirror_mode": {
    "name": "ipython",
    "version": 3
   },
   "file_extension": ".py",
   "mimetype": "text/x-python",
   "name": "python",
   "nbconvert_exporter": "python",
   "pygments_lexer": "ipython3",
   "version": "3.7.8"
  }
 },
 "nbformat": 4,
 "nbformat_minor": 4
}
